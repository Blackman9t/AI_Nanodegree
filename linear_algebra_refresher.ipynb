{
  "nbformat": 4,
  "nbformat_minor": 0,
  "metadata": {
    "colab": {
      "name": "linear_algebra_refresher.ipynb",
      "provenance": [],
      "collapsed_sections": [],
      "authorship_tag": "ABX9TyNV1p7njfzJqFB3PCNSxCza",
      "include_colab_link": true
    },
    "kernelspec": {
      "name": "python3",
      "display_name": "Python 3"
    }
  },
  "cells": [
    {
      "cell_type": "markdown",
      "metadata": {
        "id": "view-in-github",
        "colab_type": "text"
      },
      "source": [
        "<a href=\"https://colab.research.google.com/github/Lawrence-Krukrubo/AI_Nanodegree/blob/master/linear_algebra_refresher.ipynb\" target=\"_parent\"><img src=\"https://colab.research.google.com/assets/colab-badge.svg\" alt=\"Open In Colab\"/></a>"
      ]
    },
    {
      "cell_type": "markdown",
      "metadata": {
        "id": "pKhvB_mjDAFf",
        "colab_type": "text"
      },
      "source": [
        "### **Points and Vectors:**\n",
        "\n",
        "Two fundamentals in Geometry are:-\n",
        "\n",
        "1. Points: Essentially a point is a location in space, represented visually as a dot. In the cartesian system, a point is an ordered pair of coordinates $(x,y)$ first the $x$ and the $y$. \n",
        "\n",
        "2. Vectors: A vector is an object representing a change in position. In Euclidean space, a vector can be compared to an arrow connecting two points. The important properties of a vector in euclidean space are its **magnitude** meaning the length of the arrow and its **direction**. For example vector $[{2 \\over 4}]$ means it goes 2 on the $x$ axis and 4 on the $y$ axis.\n",
        "\n",
        "**Difference btwn a Point and Vector:**\n",
        "1. A vec does not have a fixed location.\n",
        "2. Two vectors are equal if they represent the same amt of change in each direction. While two points are equal only if they are located in the same place. "
      ]
    },
    {
      "cell_type": "markdown",
      "metadata": {
        "id": "nti3Um-ys3Pz",
        "colab_type": "text"
      },
      "source": [
        "### Adding and Subtracting vectors\n",
        "\n",
        "Matrices and Vectors work very well with numpy..."
      ]
    },
    {
      "cell_type": "code",
      "metadata": {
        "id": "zfOthfaf5jdT",
        "colab_type": "code",
        "colab": {}
      },
      "source": [
        "import numpy as np\n",
        "import pandas as pd"
      ],
      "execution_count": 0,
      "outputs": []
    },
    {
      "cell_type": "code",
      "metadata": {
        "id": "-SKttxgIubhX",
        "colab_type": "code",
        "colab": {}
      },
      "source": [
        "class Vector(object):\n",
        "    def __init__(self, coordinates):\n",
        "\n",
        "        self.coordinates = coordinates\n",
        "\n",
        "        # Let's confirm its an iterable of atleast 2 elements.\n",
        "        try:\n",
        "            self.dimensions = len(coordinates) \n",
        "        except Exception as e:\n",
        "            print(e)\n",
        "            print('Kindly pass a List or Tuple of real numbers')\n",
        "\n",
        "        if self.dimensions < 2:\n",
        "            raise ValueError('Minimum of two elements must be in coordinates')\n",
        "        \n",
        "        for i in self.coordinates:\n",
        "            try:\n",
        "                int(i)\n",
        "            except:\n",
        "                raise ValueError('Elements Must be Type Int or Float')\n",
        "\n",
        "\n",
        "    def add_vectors(*args):\n",
        "        \"\"\"This method takes a tuple or list of equal lenghts and converts\n",
        "        same to an array and adds them up element-wise and returns an array.\"\"\"\n",
        "\n",
        "        first = np.zeros((np.array(args[0]).shape))\n",
        "\n",
        "        try:\n",
        "            for i in  args:\n",
        "                first = first + np.array(i)\n",
        "            return np.round(first,5)\n",
        "        except Exception as e:\n",
        "            return e\n",
        "        \n",
        "\n",
        "    def minus_vectors(*args):\n",
        "        \"\"\"This method takes a Vector object (self) and another numerical\n",
        "        iterable of same length with self and adds them up element wise,\n",
        "        finally it returns a numpy array\n",
        "        \"\"\"\n",
        "        first = np.array(args[0])\n",
        "\n",
        "        try:\n",
        "            for i in  range(1, len(args)):\n",
        "                first = first - np.array(args[i])\n",
        "            return np.round(first,5)\n",
        "        except Exception as e:\n",
        "            return e\n",
        "    \n",
        "\n",
        "    def scalar_multiply(scalar, vector):\n",
        "        \"\"\"This method takes a scalar of any real number\n",
        "        and a vec_or_mat object of type tuple or list, or numpy array\n",
        "        containing real numbers. It returns an array of vec_or-mat,\n",
        "        having each of its element multiplied by the scalar\"\"\"\n",
        "\n",
        "        # Let's assert scalar is a real number i.e int or float\n",
        "        # Let's assert only lists or tuples or arrays are vec_or_mat.\n",
        "        try:\n",
        "            assert type(scalar) is int or type(scalar) is float\n",
        "        except:\n",
        "            return 'Error: Scalar must be a real number'\n",
        "\n",
        "        # Convert the vector object to a numpy array\n",
        "        vector = np.array(vector)\n",
        "\n",
        "        try:\n",
        "            return np.round(scalar * vector, 5)\n",
        "        except Exception as e:\n",
        "            return e\n",
        "\n",
        "\n",
        "    def magnitude(vector):\n",
        "        \"\"\"This method takes any given vector in\n",
        "        form of an array, list or tuple and returns\n",
        "        the magnitude or length of the vector\"\"\"\n",
        "\n",
        "        vector = np.array(vector)\n",
        "\n",
        "        magnitude = np.sqrt(np.sum(vector**2))\n",
        "\n",
        "        return np.round(magnitude, 5)\n",
        "\n",
        "\n",
        "    def normalize_vector(vector):\n",
        "        \"\"\" This method takes a vector of type\n",
        "        list, array or tuple and returns the the unit vector\n",
        "        \"\"\"\n",
        "        vector = np.array(vector)\n",
        "\n",
        "        vec_magnitude = Vector.magnitude(vector)\n",
        "\n",
        "        # If magnitude is 0, meaning it's a Zero-Vector, then return Zero.\n",
        "        if vec_magnitude:\n",
        "            norm_vector = (1 / vec_magnitude) * vector\n",
        "        else:\n",
        "            return 0\n",
        "\n",
        "        # Next let's verify that norm_vector is indeed a unit vector\n",
        "        def confirm_unit_vector(norm_vector):\n",
        "            \"\"\"Let's find the magnitude or length\n",
        "            of the unit vector if its 1 or very colse to one then we're okay\n",
        "            \"\"\"\n",
        "            norm_vec_mag = Vector.magnitude(norm_vector)\n",
        "\n",
        "            return norm_vec_mag\n",
        "        \n",
        "        unit_vec_magnitude = confirm_unit_vector(norm_vector)\n",
        "\n",
        "        if 1 - unit_vec_magnitude > 0.05:\n",
        "            return 'Not Quite a Unit Vector.'\n",
        "\n",
        "        return np.round(norm_vector,5)\n",
        "\n",
        "\n",
        "    def dot_product(vec_1, vec_2):\n",
        "        \"\"\"This method takes a Vector object (self) and another numerical\n",
        "        iterable of same length with self and returns the sum of element-wise \n",
        "        multiplication on both vectors as a number\n",
        "        \"\"\"\n",
        "        # Let's convert them to numpy arrays\n",
        "        vec1 = np.array(vec_1)\n",
        "        vec2 = np.array(vec_2)\n",
        "\n",
        "        # Let's confirm both vectors are same length and contain ints or floats\n",
        "        try:\n",
        "            dot_sum = np.dot(vec_1, vec_2)\n",
        "        except Exception as e:\n",
        "            print(e)\n",
        "            return 'Confirm Equal Lengths and Elements of only Type int or float'\n",
        "\n",
        "        return np.round(dot_sum, 5)\n",
        "\n",
        "\n",
        "    def vec_angle_degrees(vec_1, vec_2):\n",
        "        \"\"\"This method calculates the angle between two vectors\n",
        "        in degrees and returns a float.\"\"\"\n",
        "\n",
        "        try:\n",
        "            dot_sum = Vector.dot_product(vec_1, vec_2)\n",
        "            mag_vec1 = Vector.magnitude(vec_1)\n",
        "            mag_vec2 = Vector.magnitude(vec_2)\n",
        "            cos_theta = dot_sum / (mag_vec1 * mag_vec2)\n",
        "            theta = np.arccos(cos_theta) # radians of the degree\n",
        "            degrees = np.degrees(theta)\n",
        "            return np.round(degrees,5)\n",
        "        except Exception as e:\n",
        "            return e \n",
        "\n",
        "\n",
        "    def is_parallel(vec_1, vec_2):\n",
        "        \"\"\"This method checks if two vectors are parallel, That is, if one is \n",
        "        a scalar multiple of the other. It will confirm if the angle between\n",
        "        the vectors is 0 or 180 and return True or False\"\"\"\n",
        "\n",
        "        mag_vec1 = Vector.magnitude(vec_1)\n",
        "        mag_vec2 = Vector.magnitude(vec_2)\n",
        "\n",
        "        if (-0.05 <= mag_vec1 <= 0.05) or (-0.05 <= mag_vec2 <= 0.05):\n",
        "            return True\n",
        "\n",
        "        else:\n",
        "            return Vector.vec_angle_degrees(vec_1,vec_2) == 180\n",
        "\n",
        "\n",
        "        pass\n",
        "\n",
        "    def is_orthogonal(vec1, vec2, ):\n",
        "        \"\"\"This method checks if two vectors are orthogonal. that is, if the\n",
        "        dot product of the two vectors is equal to zero. This condition means\n",
        "        one is a zero-vector or both are at right angle to one another\"\"\"\n",
        "\n",
        "        try:\n",
        "            dot_sum = Vector.dot_product(vec1,vec2)\n",
        "        except Exception as e:\n",
        "            print(e)\n",
        "            return 'Confirm Equal Lengths and Elements of only Type int or float'\n",
        "\n",
        "        return -0.05 <= dot_sum <= 0.05\n",
        "\n",
        "    def vee_parallel(vec_v, vec_b):\n",
        "        \"\"\"Given two vectors; vec_v and vec_b,This method computes \n",
        "        the projection (v-parallel) of vec_v on vec_b.\n",
        "        It returns an array of vector coordinates.\"\"\"\n",
        "\n",
        "        # first we find the unit vector of the basis vector\n",
        "        unit_b = Vector.normalize_vector(vec_b)\n",
        "\n",
        "        # Then the dot product of vec_v and the unit_vector_b\n",
        "        vec_v_dot_unit_b = Vector.dot_product(vec_v, unit_b)\n",
        "        try:\n",
        "            projection = vec_v_dot_unit_b * unit_b\n",
        "            return np.round(projection,5)\n",
        "        except Exception as e:\n",
        "            print(e)\n",
        "\n",
        "\n",
        "    def vee_perp(vec_v, vec_b):\n",
        "        \"\"\"Given a projecting vector and a basis vector,\n",
        "        find the components of the projecting vector, orthogonal\n",
        "        to the basis vector (v-perp).\n",
        "        it returns the orthogonal vector. An array.\"\"\"\n",
        "\n",
        "        # Now,Let's find the component of vec_v parallel to vec_b. (v-parallel)\n",
        "        v_parallel = Vector.vee_parallel(vec_v, vec_b)\n",
        "\n",
        "        # Therefore to find the orthogonal vec or V-perp, we subtract \n",
        "        # v_parallel from vec_v itself. Because, given a basis vector (vec_b),\n",
        "        # We can express any vector as the sum of its component,parallel to the\n",
        "        # basis vector and its component orthogonal to the basis vector.\n",
        "        #\n",
        "        try:\n",
        "            v_perp = vec_v - v_parallel\n",
        "            return v_perp\n",
        "        except Exception as e:\n",
        "            print(e)\n",
        "\n",
        "\n",
        "    def cross_product(vec_v, vec_b):\n",
        "        \"\"\"This method finds the cross product of vec_v and vec_b\n",
        "        in that order. length of vectors must be 3 or 2 dimensional.\n",
        "        If either vectors is 2 dimensional a new dimension of 0\n",
        "        is added to make 3 dimensions. This method returns a vector, which is\n",
        "        formed by computing cross product of vec_v and vec_w.\"\"\"\n",
        "\n",
        "        try:\n",
        "            assert 2 <= len(vec_v) < 4\n",
        "            if len(vec_v) == 2:\n",
        "                vec_v = list(vec_v)\n",
        "                vec_v.append(0)\n",
        "            assert 2 <= len(vec_b) < 4\n",
        "            if len(vec_b) == 2:\n",
        "                vec_b = list(vec_b)\n",
        "                vec_b.append(0)\n",
        "        except AssertionError as e:\n",
        "            return 'vectors must contain either 2 or 3 elements only'\n",
        "\n",
        "        cross_vec = np.zeros(len(vec_v))\n",
        "\n",
        "        for i in range(len(cross_vec)):\n",
        "            if i == 0:\n",
        "                cross_vec[i] = (vec_v[1] * vec_b[2]) - (vec_b[1] * vec_v[2])\n",
        "            elif i == 1:\n",
        "                cross_vec[i] = -((vec_v[0] * vec_b[2]) - (vec_b[0] * vec_v[2]))\n",
        "            else:\n",
        "                cross_vec[i] = (vec_v[0] * vec_b[1]) - (vec_b[0] * vec_v[1])\n",
        "\n",
        "        return cross_vec\n",
        "\n",
        "\n",
        "    def area_parrallelogram(vec_v, vec_b):\n",
        "        \"\"\" this method takes two vectors, vec_v and vec_b, which must \n",
        "        either be of size 2 or 3 elements. If elements are 2, a 3rd element \n",
        "        of 0 is appended. Then it returns the area of the parallelogram \n",
        "        formed by spanning, these two vectors.This area is just the square root\n",
        "        of the magnitude of the cross-product of these two vectors.\"\"\"\n",
        "\n",
        "        # First we find the cross-product of vec_v and vec_b\n",
        "        cross_vec = Vector.cross_product(vec_v, vec_b)\n",
        "        # Next we find the magnitude of the cross-product-vector\n",
        "        cross_vec_magnitude = Vector.magnitude(cross_vec)\n",
        "\n",
        "        area_of_para = cross_vec_magnitude\n",
        "        # finally we return the area, which is the magnitude computed here.\n",
        "        return area_of_para\n",
        "\n",
        "\n",
        "    def area_triangle(vec_v, vec_b):\n",
        "        \"\"\" this method takes two vectors, vec_v and vec_b, which must \n",
        "        either be of size 2 or 3 elements. If elements are 2, a 3rd element \n",
        "        of 0 is appended. Then it returns the area of the traingle \n",
        "        formed by spanning, these two vectors.This area is just half of the \n",
        "        area of the parallelogram formed by these two vectors..\"\"\"\n",
        "\n",
        "        area_of_para = Vector.area_parrallelogram(vec_v, vec_b)\n",
        "\n",
        "        area_of_tri = 0.5 * area_of_para\n",
        "\n",
        "        return area_of_tri"
      ],
      "execution_count": 0,
      "outputs": []
    },
    {
      "cell_type": "markdown",
      "metadata": {
        "id": "PS6O-qRgqyC6",
        "colab_type": "text"
      },
      "source": [
        "<b><h3>Note that multiplying a vector by a negative number reverses the direction of the vector in addition to possibly changing its magnitude.</b></h3>"
      ]
    },
    {
      "cell_type": "markdown",
      "metadata": {
        "id": "DTpASDLvNerR",
        "colab_type": "text"
      },
      "source": [
        "lesson_2_quiz_1 let's add the following vectors"
      ]
    },
    {
      "cell_type": "code",
      "metadata": {
        "id": "caK4xldO46lb",
        "colab_type": "code",
        "outputId": "b9d0c354-a0f3-43db-a7ca-d4ef5fdb3b65",
        "colab": {
          "base_uri": "https://localhost:8080/",
          "height": 34
        }
      },
      "source": [
        "vec_1 = (8.218, -9.341)\n",
        "vec_2 = (-1.129, 2.111)\n",
        "\n",
        "# add them up\n",
        "Vector.add_vectors(vec_1, vec_2)"
      ],
      "execution_count": 3,
      "outputs": [
        {
          "output_type": "execute_result",
          "data": {
            "text/plain": [
              "array([ 7.089, -7.23 ])"
            ]
          },
          "metadata": {
            "tags": []
          },
          "execution_count": 3
        }
      ]
    },
    {
      "cell_type": "markdown",
      "metadata": {
        "id": "zYDG_MHmR0Ar",
        "colab_type": "text"
      },
      "source": [
        "lesson_2_quiz_2 let's minus the following vectors"
      ]
    },
    {
      "cell_type": "code",
      "metadata": {
        "id": "9NwjXA6tiNuv",
        "colab_type": "code",
        "outputId": "98264db6-70b4-4ec3-844f-f41f49b619cd",
        "colab": {
          "base_uri": "https://localhost:8080/",
          "height": 34
        }
      },
      "source": [
        "vec_1 = (7.119, 8.215)\n",
        "vec_2 = (-8.223, 0.878)\n",
        "\n",
        "# minus 2 from 1\n",
        "Vector.minus_vectors(vec_1, vec_2)"
      ],
      "execution_count": 4,
      "outputs": [
        {
          "output_type": "execute_result",
          "data": {
            "text/plain": [
              "array([15.342,  7.337])"
            ]
          },
          "metadata": {
            "tags": []
          },
          "execution_count": 4
        }
      ]
    },
    {
      "cell_type": "markdown",
      "metadata": {
        "id": "DufrlKB1hzoV",
        "colab_type": "text"
      },
      "source": [
        "lesson_2_quiz_3 let's  scalar multiply the following vectors"
      ]
    },
    {
      "cell_type": "code",
      "metadata": {
        "id": "Uo5LK00-SEsf",
        "colab_type": "code",
        "outputId": "8e19ffdd-a967-4612-ded7-34bfc194d7d5",
        "colab": {
          "base_uri": "https://localhost:8080/",
          "height": 34
        }
      },
      "source": [
        "x = 7.41\n",
        "y = (1.671, -1.012, -0.318)\n",
        "Vector.scalar_multiply(x,y)"
      ],
      "execution_count": 5,
      "outputs": [
        {
          "output_type": "execute_result",
          "data": {
            "text/plain": [
              "array([12.38211, -7.49892, -2.35638])"
            ]
          },
          "metadata": {
            "tags": []
          },
          "execution_count": 5
        }
      ]
    },
    {
      "cell_type": "markdown",
      "metadata": {
        "id": "09v9tzOOU5F_",
        "colab_type": "text"
      },
      "source": [
        "## **Vector Normalization:**\n",
        "\n",
        "This is the process of finding the unit vector and involves 2 steps:\n",
        "\n",
        "1. Computing the magnitude of the vector \n",
        "2. Multiplying the inverse of the magnitude by the vector to normalise it (unit vector)\n",
        "\n",
        "if vector is $v$ then its magnitude is **$\\vert \\vec v\\vert$** and it's normalised or unit vector sign is **$\\| \\vec v\\|$**"
      ]
    },
    {
      "cell_type": "markdown",
      "metadata": {
        "id": "RoFLbWvlT09t",
        "colab_type": "text"
      },
      "source": [
        "lesson_2_quiz_4 let's compute magnitude"
      ]
    },
    {
      "cell_type": "code",
      "metadata": {
        "id": "sXvSeOwIJ1K9",
        "colab_type": "code",
        "outputId": "4e82c97d-49de-4d94-cfb8-7c205e499175",
        "colab": {
          "base_uri": "https://localhost:8080/",
          "height": 34
        }
      },
      "source": [
        "x = [-0.221, 7.437]\n",
        "Vector.magnitude(x)"
      ],
      "execution_count": 6,
      "outputs": [
        {
          "output_type": "execute_result",
          "data": {
            "text/plain": [
              "7.44028"
            ]
          },
          "metadata": {
            "tags": []
          },
          "execution_count": 6
        }
      ]
    },
    {
      "cell_type": "markdown",
      "metadata": {
        "id": "gvbNuR9cZpwK",
        "colab_type": "text"
      },
      "source": [
        "lesson_2_quiz_5 let's compute magnitude"
      ]
    },
    {
      "cell_type": "code",
      "metadata": {
        "id": "YbtE1Y8GPmwM",
        "colab_type": "code",
        "outputId": "19d32c17-6377-4741-928d-d612ff92b90a",
        "colab": {
          "base_uri": "https://localhost:8080/",
          "height": 34
        }
      },
      "source": [
        "x = [8.813, -1.331, -6.247]\n",
        "Vector.magnitude(x)"
      ],
      "execution_count": 7,
      "outputs": [
        {
          "output_type": "execute_result",
          "data": {
            "text/plain": [
              "10.88419"
            ]
          },
          "metadata": {
            "tags": []
          },
          "execution_count": 7
        }
      ]
    },
    {
      "cell_type": "markdown",
      "metadata": {
        "id": "ECTcMnjoaWr4",
        "colab_type": "text"
      },
      "source": [
        "lesson_2_quiz_6 let's unit vector"
      ]
    },
    {
      "cell_type": "code",
      "metadata": {
        "id": "9IzkmxcQ_bLH",
        "colab_type": "code",
        "outputId": "3ed9c448-11ba-45cd-cba3-eac2b62c0e34",
        "colab": {
          "base_uri": "https://localhost:8080/",
          "height": 34
        }
      },
      "source": [
        "x = [5.581, -2.136]\n",
        "Vector.normalize_vector(x)"
      ],
      "execution_count": 8,
      "outputs": [
        {
          "output_type": "execute_result",
          "data": {
            "text/plain": [
              "array([ 0.93394, -0.35744])"
            ]
          },
          "metadata": {
            "tags": []
          },
          "execution_count": 8
        }
      ]
    },
    {
      "cell_type": "markdown",
      "metadata": {
        "id": "saQvjhhEayDJ",
        "colab_type": "text"
      },
      "source": [
        "lesson_2_quiz_7 let's unit vector"
      ]
    },
    {
      "cell_type": "code",
      "metadata": {
        "id": "gdb4K9f1a0ra",
        "colab_type": "code",
        "outputId": "1d18d5c7-8236-41d4-b923-0842c5d0cc83",
        "colab": {
          "base_uri": "https://localhost:8080/",
          "height": 34
        }
      },
      "source": [
        "x = [1.996, 3.108, -4.554]\n",
        "Vector.normalize_vector(x)"
      ],
      "execution_count": 9,
      "outputs": [
        {
          "output_type": "execute_result",
          "data": {
            "text/plain": [
              "array([ 0.3404 ,  0.53004, -0.77665])"
            ]
          },
          "metadata": {
            "tags": []
          },
          "execution_count": 9
        }
      ]
    },
    {
      "cell_type": "markdown",
      "metadata": {
        "id": "0ORzFzqSgdp7",
        "colab_type": "text"
      },
      "source": [
        "### **Inner Product or Dot Product:**\n",
        "\n",
        "This is one of the most important concepts in Linear Algebra. The inner or Dot product (since we always represent it by a dot between the vectors to be multiplied) lets us find the angle between two different vectors.\n",
        "<br>It is calculated by first multiplying the corresponding coordinates of equal sized vectors and summing it up. The dot product is a number.\n",
        "\n",
        "**Note That:** \n",
        "1. The magnitude of a vector is the square root of its dot-product on itself.\n",
        "2. The Dot product of two vectors is a figure that is usually between the negative of the product of their magnitudes and the product of their magnitudes."
      ]
    },
    {
      "cell_type": "markdown",
      "metadata": {
        "id": "Ur6khwd5sXyw",
        "colab_type": "text"
      },
      "source": [
        "Let's calculate some dot products"
      ]
    },
    {
      "cell_type": "code",
      "metadata": {
        "id": "aMuhsHumgz01",
        "colab_type": "code",
        "outputId": "65a42edf-6b19-49dd-9f37-3b4d6b35635f",
        "colab": {
          "base_uri": "https://localhost:8080/",
          "height": 34
        }
      },
      "source": [
        "x = (7.887, 4.138)\n",
        "y = (-8.802, 6.776)\n",
        "\n",
        "# Calculate the dot product\n",
        "Vector.dot_product(x,y)"
      ],
      "execution_count": 10,
      "outputs": [
        {
          "output_type": "execute_result",
          "data": {
            "text/plain": [
              "-41.38229"
            ]
          },
          "metadata": {
            "tags": []
          },
          "execution_count": 10
        }
      ]
    },
    {
      "cell_type": "markdown",
      "metadata": {
        "id": "P6gddlHVMphy",
        "colab_type": "text"
      },
      "source": [
        "Proof that the magnitude of a vector is the square root of its dot product on itself."
      ]
    },
    {
      "cell_type": "code",
      "metadata": {
        "id": "4RZ5QSsfMGvZ",
        "colab_type": "code",
        "outputId": "59eb4599-dec1-4d1e-f069-389555c93d20",
        "colab": {
          "base_uri": "https://localhost:8080/",
          "height": 34
        }
      },
      "source": [
        "Vector.magnitude(x)"
      ],
      "execution_count": 11,
      "outputs": [
        {
          "output_type": "execute_result",
          "data": {
            "text/plain": [
              "8.90662"
            ]
          },
          "metadata": {
            "tags": []
          },
          "execution_count": 11
        }
      ]
    },
    {
      "cell_type": "code",
      "metadata": {
        "id": "ArVdg3ErMM4z",
        "colab_type": "code",
        "outputId": "c2c7a685-278b-439d-dc16-4b8c30ff6058",
        "colab": {
          "base_uri": "https://localhost:8080/",
          "height": 34
        }
      },
      "source": [
        "test = Vector.dot_product(x,x)\n",
        "test = np.sqrt(test)\n",
        "round(test,3)"
      ],
      "execution_count": 12,
      "outputs": [
        {
          "output_type": "execute_result",
          "data": {
            "text/plain": [
              "8.907"
            ]
          },
          "metadata": {
            "tags": []
          },
          "execution_count": 12
        }
      ]
    },
    {
      "cell_type": "markdown",
      "metadata": {
        "id": "MSyGALhiPUmz",
        "colab_type": "text"
      },
      "source": [
        "Above test proven!!"
      ]
    },
    {
      "cell_type": "code",
      "metadata": {
        "id": "c_xIkbmxqv2d",
        "colab_type": "code",
        "outputId": "8732804b-9e7a-4307-e3b9-31b40563d798",
        "colab": {
          "base_uri": "https://localhost:8080/",
          "height": 34
        }
      },
      "source": [
        "x = (-5.955, -4.904, -1.874)\n",
        "y = (-4.496, -8.755, 7.103)\n",
        "\n",
        "# Calculate the dot product\n",
        "Vector.dot_product(x,y)"
      ],
      "execution_count": 13,
      "outputs": [
        {
          "output_type": "execute_result",
          "data": {
            "text/plain": [
              "56.39718"
            ]
          },
          "metadata": {
            "tags": []
          },
          "execution_count": 13
        }
      ]
    },
    {
      "cell_type": "markdown",
      "metadata": {
        "id": "bvu_6EqbseSz",
        "colab_type": "text"
      },
      "source": [
        "Let's calculate some angles of vectors"
      ]
    },
    {
      "cell_type": "code",
      "metadata": {
        "id": "QuCkMItcshJm",
        "colab_type": "code",
        "outputId": "446b2f05-5b42-459c-a467-e3f8fb9bf7af",
        "colab": {
          "base_uri": "https://localhost:8080/",
          "height": 34
        }
      },
      "source": [
        "x = (3.183, -7.627)\n",
        "y = (-2.668, 5.319)\n",
        "\n",
        "# Let's calculate the angle in degrees\n",
        "deg = Vector.vec_angle_degrees(x,y)\n",
        "\n",
        "# Let's convert ot to radians\n",
        "np.radians(deg)"
      ],
      "execution_count": 14,
      "outputs": [
        {
          "output_type": "execute_result",
          "data": {
            "text/plain": [
              "3.0720243532040747"
            ]
          },
          "metadata": {
            "tags": []
          },
          "execution_count": 14
        }
      ]
    },
    {
      "cell_type": "code",
      "metadata": {
        "id": "3vtduMArybnX",
        "colab_type": "code",
        "outputId": "3ba0688c-e661-4ec9-ccdb-8408015936ac",
        "colab": {
          "base_uri": "https://localhost:8080/",
          "height": 34
        }
      },
      "source": [
        "x = (7.35, 0.221, 5.188)\n",
        "y = (2.751, 8.259, 3.985)\n",
        "\n",
        "# Let's calculate the angle in degrees\n",
        "Vector.vec_angle_degrees(x,y)"
      ],
      "execution_count": 15,
      "outputs": [
        {
          "output_type": "execute_result",
          "data": {
            "text/plain": [
              "60.27582"
            ]
          },
          "metadata": {
            "tags": []
          },
          "execution_count": 15
        }
      ]
    },
    {
      "cell_type": "markdown",
      "metadata": {
        "id": "ZZ3j3_rV12V4",
        "colab_type": "text"
      },
      "source": [
        "### **Parallel and Orthogonal vectors:**\n",
        "Parallel = <h3>$\\vec v^{\\|}$</h3>\n",
        "Orthogonal = <h3>$\\vec v^{\\perp}$</h3>\n",
        "1. **Parallel Vectors:**<br>\n",
        "We say two vectors are parallel if one is a scalar multiple of the other. Thus vector $v$ is parallel to itself $(1 * v)$, $(0 * v)$, $(2 * v)$, $(0.5 * v)$... Even if they point in opposite direction such as $(-1 * v)$, all that matters is if one is a scalar multiple of the other. To be parallel, it means two vectors have an angle of zero or 180 degrees between them.\n",
        "2. **Orthogonal Vectors:**<br>Two vectors are orthogonal if their dot product is equal to 0. This is possible in two situations:\n",
        ">>A. Either one of the vectors is the zero-vector<br>\n",
        ">>B. They are at **right-angled** to one another\n",
        "\n",
        "The Zero-Vector: Is unique in that it is the only vector that is both parallel and orthogonal to all other vectors and it's the only vector orthogonal to itself. Note that if some vector is orthogonal to itself, then it must be the zero-vector."
      ]
    },
    {
      "cell_type": "markdown",
      "metadata": {
        "id": "2lwfsTWJ4_jV",
        "colab_type": "text"
      },
      "source": [
        "**Coding Exercise: Checking for Parallelism and Orthogonality:**"
      ]
    },
    {
      "cell_type": "code",
      "metadata": {
        "id": "iDPr72DkkHDl",
        "colab_type": "code",
        "outputId": "f9e695a0-09f5-4121-8379-c4263eebe660",
        "colab": {
          "base_uri": "https://localhost:8080/",
          "height": 34
        }
      },
      "source": [
        "x = (2.118, 4.827)\n",
        "y = (0,0)\n",
        "print(Vector.is_parallel(x,y),Vector.is_orthogonal(x,y))"
      ],
      "execution_count": 16,
      "outputs": [
        {
          "output_type": "stream",
          "text": [
            "True True\n"
          ],
          "name": "stdout"
        }
      ]
    },
    {
      "cell_type": "code",
      "metadata": {
        "id": "X-tGwDHvwaiy",
        "colab_type": "code",
        "outputId": "55f2391d-44b6-4307-a058-6ae2af1f13b9",
        "colab": {
          "base_uri": "https://localhost:8080/",
          "height": 34
        }
      },
      "source": [
        "x = (-2.328, -7.284, -1.214)\n",
        "y = (-1.821, 1.072, -2.94)\n",
        "print(Vector.is_parallel(x,y),Vector.is_orthogonal(x,y))"
      ],
      "execution_count": 17,
      "outputs": [
        {
          "output_type": "stream",
          "text": [
            "False True\n"
          ],
          "name": "stdout"
        }
      ]
    },
    {
      "cell_type": "code",
      "metadata": {
        "id": "zryPqqFN_gPE",
        "colab_type": "code",
        "outputId": "da598c16-99d8-4ec4-dca0-7e7b1cf49e76",
        "colab": {
          "base_uri": "https://localhost:8080/",
          "height": 34
        }
      },
      "source": [
        "x = (-7.579, -7.88)\n",
        "y = (22.737, 23.64)\n",
        "print(Vector.is_parallel(x,y),Vector.is_orthogonal(x,y))"
      ],
      "execution_count": 18,
      "outputs": [
        {
          "output_type": "stream",
          "text": [
            "False False\n"
          ],
          "name": "stdout"
        }
      ]
    },
    {
      "cell_type": "markdown",
      "metadata": {
        "id": "kOKJx5L1BwU6",
        "colab_type": "text"
      },
      "source": [
        "### Projecting Vectors:\n",
        "\n",
        "Orthogonality is a very powerful tool for decomposing objects into combinations of simpler objects in a structured way.\n",
        "\n",
        "When a vector is projected from unto another vector, the perpendicular line between the projected vector and the base vector is called the 'perp'. If the projecting vector is $\\vec v$ then the imaginary line with 90 degrees between it and the basis vector is called 'V- perp' symbolised as:- <h4>$\\vec v^{\\perp}$</h4>\n",
        "\n",
        "Projecting a vector shows that the magnitude of the projected vector is the sum of it's parallel vector and the orthogonal vector perpendicular to the base vector:\n",
        "<h3>$\\| \\vec v \\| = \\vec v^{\\|} +  \\vec v^{\\perp}$</h3>\n",
        "\n",
        "Thus given a non-zero basis vector, we can express any vector as the sum of two vectors<br>\n",
        ">> One that's parallel to the basis vector <br>\n",
        ">> And one that's orthogonal to the basis vector.\n",
        "\n",
        "**SOH:** Sine of a Right-Angled Triangle is Opposite divided by the Hypothenuse<br>\n",
        "**CAH:** Cosine of a Righy-Angled Triangle is Adjacent divided by the Hypothenuse.<br>\n",
        "**TOA:** Cosine of a Righy-Angled Triangle is Adjacent divided by the Hypothenuse. "
      ]
    },
    {
      "cell_type": "markdown",
      "metadata": {
        "id": "DZbgE14fPlmV",
        "colab_type": "text"
      },
      "source": [
        "Note that the length ov v-parallel is the length of v times the unit vector in the direction of vector b, which is parallel to v-parallel.\n",
        "<h3>$|\\vec v^{\\|}| = | \\vec v | * \\| \\vec b\\|$</h3>\n",
        "This can be extrapolated to mean\n",
        "<h3>$\\vec v^{\\|} = (\\vec v . \\| \\vec b \\|)* \\| \\vec b\\|$</h3>"
      ]
    },
    {
      "cell_type": "markdown",
      "metadata": {
        "id": "JqVFflqmflDG",
        "colab_type": "text"
      },
      "source": [
        "<h4>Calculating vector projections, orthogonals and decomposing vectors</h4>"
      ]
    },
    {
      "cell_type": "code",
      "metadata": {
        "id": "UWYvgfAlF9Ft",
        "colab_type": "code",
        "colab": {
          "base_uri": "https://localhost:8080/",
          "height": 34
        },
        "outputId": "680bee10-90b1-48f5-9345-6ee400ab03c0"
      },
      "source": [
        "# Calculate the projection of vec_v on vec_b\n",
        "vec_v = (3.039, 1.879)\n",
        "vec_b = (0.825, 2.036)\n",
        "\n",
        "Vector.vee_parallel(vec_v, vec_b)"
      ],
      "execution_count": 19,
      "outputs": [
        {
          "output_type": "execute_result",
          "data": {
            "text/plain": [
              "array([1.08262, 2.67173])"
            ]
          },
          "metadata": {
            "tags": []
          },
          "execution_count": 19
        }
      ]
    },
    {
      "cell_type": "code",
      "metadata": {
        "id": "usLNPFcfgkDw",
        "colab_type": "code",
        "colab": {
          "base_uri": "https://localhost:8080/",
          "height": 34
        },
        "outputId": "183ad42c-ce2a-4b7a-f1a8-5e9d6ee347fb"
      },
      "source": [
        "# Find the component of vec_v, orthogonal to the basis vec_b.\n",
        "vec_v = (-9.88, -3.264, -8.159)\n",
        "vec_b = (-2.155, -9.353, -9.473)\n",
        "\n",
        "Vector.vee_perp(vec_v, vec_b)"
      ],
      "execution_count": 20,
      "outputs": [
        {
          "output_type": "execute_result",
          "data": {
            "text/plain": [
              "array([-8.35008,  3.37612, -1.43367])"
            ]
          },
          "metadata": {
            "tags": []
          },
          "execution_count": 20
        }
      ]
    },
    {
      "cell_type": "code",
      "metadata": {
        "id": "dXX0RwzltxUD",
        "colab_type": "code",
        "colab": {
          "base_uri": "https://localhost:8080/",
          "height": 34
        },
        "outputId": "e286a635-9fa4-4bb9-f430-b64bbb264fa5"
      },
      "source": [
        "# now find the components of vec_v parallel to vec_b and the orthogonal component of vec_v on vec_b\n",
        "vec_v = (3.009, -6.172, 3.692, -2.51)\n",
        "vec_b = (6.404, -9.144, 2.759, 8.718)\n",
        "\n",
        "v_parallel_b = Vector.vee_parallel(vec_v, vec_b)\n",
        "v_perp_b = Vector.vee_perp(vec_v, vec_b)\n",
        "print(v_parallel_b, v_perp_b)"
      ],
      "execution_count": 21,
      "outputs": [
        {
          "output_type": "stream",
          "text": [
            "[ 1.96851 -2.81077  0.84807  2.67983] [ 1.04049 -3.36123  2.84393 -5.18983]\n"
          ],
          "name": "stdout"
        }
      ]
    },
    {
      "cell_type": "markdown",
      "metadata": {
        "id": "t51My61oq4wJ",
        "colab_type": "text"
      },
      "source": [
        "<h3><b>Cross-Products, Area-of-Parallelogram and Area of Triangle:</b></h3>"
      ]
    },
    {
      "cell_type": "markdown",
      "metadata": {
        "id": "VTRVO0q5r5wt",
        "colab_type": "text"
      },
      "source": [
        "Cross products are another type of vector multiplications that only exist in 3-Dimensions. Unlike a dot-product that returns a number, cross-products return a vector. Geometrically, the cross-product of vectors $v$ and $w$, is the vector orthogonal to both $v$ and $w$. Cross products are non-commutative, this means the order matters as cross product of $v$ * $w$ != that of $w$ * $v$.\n",
        "<h4>$\\|\\vec v*\\vec w\\| = \\|\\vec v\\| * \\|\\vec w\\| * sin\\theta$</h4>\n",
        "<br>The cross-product-vector of vectors $v$ and $w$ has a magnitude equal to the product of the magnitudes of the two composing vectors and sin of theta. Where theta is the angle between the two vectors. Note that if theta is $\\pi$ $(180^o)$ or if theta is $0^o$, then the cross product will have magnitude of 0. In other words, the cross product of two parallel vectors is the zero-vector. Also, if either $v$ or $w$ is the zero-vector, then the cross product will be the zero-vector as well.\n",
        "\n",
        "Area of Parallelogram:\n",
        "Given two vectors $v$ and $w$, originating from the same point and taking $w$ as the base. We can form a parallelogram. First we take $w$ as the base of the parallelogram and $v$ is the hypothenuse of the right angled triangle formed by appending the orthogonal component of $v$ unto $b$. This orthogonal component is the height of the parallelogram formed from $v$ and $w$. \n",
        "<br>Using SOH, we can say the sin of theta is equal to the opposite over hypothenuse. which means. the height of the parallelogram is equal to the magnitude of vector $v$ times the sin of theta.<br>Therefore the area of a parallelogram fromed by two vectors is ofcourse the $height * base$. And the area of a triangle is half of the area of a parallelogram, so area of traingle is $0.5 * (height * base)$ of the paralleloram.\n",
        "This simply means the area of a parallelogram formed by $v$ and $w$ is the magnitude of the cross-product of $v$ and $w$."
      ]
    },
    {
      "cell_type": "code",
      "metadata": {
        "id": "2cyHWOXXtxNb",
        "colab_type": "code",
        "colab": {
          "base_uri": "https://localhost:8080/",
          "height": 34
        },
        "outputId": "558304f7-1793-4a9d-95a6-45b567789c8c"
      },
      "source": [
        "# find the cross-product of the following vectors\n",
        "vec_v = (8.462, 7.893, -8.187)\n",
        "vec_b = (6.984, -5.975, 4.778)\n",
        "Vector.cross_product(vec_v, vec_b)"
      ],
      "execution_count": 69,
      "outputs": [
        {
          "output_type": "execute_result",
          "data": {
            "text/plain": [
              "array([ -11.204571,  -97.609444, -105.685162])"
            ]
          },
          "metadata": {
            "tags": []
          },
          "execution_count": 69
        }
      ]
    },
    {
      "cell_type": "code",
      "metadata": {
        "id": "6fsElOqrPgM_",
        "colab_type": "code",
        "colab": {
          "base_uri": "https://localhost:8080/",
          "height": 34
        },
        "outputId": "4164e5bb-86d9-4bbb-bbd4-ba4c9802f43e"
      },
      "source": [
        "# Find the area of the parallelogram spanned by these two vectors\n",
        "vec_v = (-8.987, -9.838, 5.031)\n",
        "vec_b = (-4.268, -1.861, -8.866)\n",
        "Vector.area_parrallelogram(vec_v, vec_b)"
      ],
      "execution_count": 70,
      "outputs": [
        {
          "output_type": "execute_result",
          "data": {
            "text/plain": [
              "142.12222"
            ]
          },
          "metadata": {
            "tags": []
          },
          "execution_count": 70
        }
      ]
    },
    {
      "cell_type": "code",
      "metadata": {
        "id": "mYT1Lw7QQGVw",
        "colab_type": "code",
        "colab": {
          "base_uri": "https://localhost:8080/",
          "height": 34
        },
        "outputId": "b16af75e-9511-46f5-95e5-be53d65de5c2"
      },
      "source": [
        "# Find the area of the triangle spanned by these two vectors\n",
        "vec_v = (1.5, 9.547, 3.691)\n",
        "vec_b = (-6.007, 0.124, 5.772)\n",
        "Vector.area_triangle(vec_v, vec_b)"
      ],
      "execution_count": 71,
      "outputs": [
        {
          "output_type": "execute_result",
          "data": {
            "text/plain": [
              "42.564935"
            ]
          },
          "metadata": {
            "tags": []
          },
          "execution_count": 71
        }
      ]
    }
  ]
}