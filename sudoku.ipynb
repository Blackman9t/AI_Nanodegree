{
  "nbformat": 4,
  "nbformat_minor": 0,
  "metadata": {
    "colab": {
      "name": "sudoku.ipynb",
      "provenance": [],
      "collapsed_sections": [],
      "authorship_tag": "ABX9TyOsK8XTkRsI5cOSuugr1nXD",
      "include_colab_link": true
    },
    "kernelspec": {
      "name": "python3",
      "display_name": "Python 3"
    }
  },
  "cells": [
    {
      "cell_type": "markdown",
      "metadata": {
        "id": "view-in-github",
        "colab_type": "text"
      },
      "source": [
        "<a href=\"https://colab.research.google.com/github/Lawrence-Krukrubo/AI_Nanodegree_Project_Sudoku/blob/master/sudoku.ipynb\" target=\"_parent\"><img src=\"https://colab.research.google.com/assets/colab-badge.svg\" alt=\"Open In Colab\"/></a>"
      ]
    },
    {
      "cell_type": "markdown",
      "metadata": {
        "id": "Z3CS-GVoGHbn",
        "colab_type": "text"
      },
      "source": [
        "Let's record rows and cols as strings"
      ]
    },
    {
      "cell_type": "code",
      "metadata": {
        "id": "eLe2GkIFFweo",
        "colab_type": "code",
        "colab": {}
      },
      "source": [
        "rows = 'ABCDEFGHI'\n",
        "cols = '123456789'"
      ],
      "execution_count": 0,
      "outputs": []
    },
    {
      "cell_type": "markdown",
      "metadata": {
        "id": "BFV5lsFUGpCs",
        "colab_type": "text"
      },
      "source": [
        "Let's define a helper function"
      ]
    },
    {
      "cell_type": "code",
      "metadata": {
        "id": "RoQnTc9uGrx3",
        "colab_type": "code",
        "colab": {}
      },
      "source": [
        "def cross(a,b):\n",
        "    \"\"\" Takes two strings a, b\n",
        "    and returns all possible combinations of\n",
        "    each string element in a with b\"\"\"\n",
        "\n",
        "    list_ = [i+j for i in a for j in b]\n",
        "\n",
        "    return list_"
      ],
      "execution_count": 0,
      "outputs": []
    },
    {
      "cell_type": "code",
      "metadata": {
        "id": "x45L5kjGHexA",
        "colab_type": "code",
        "outputId": "29ef44e6-5e9c-40c6-f98e-daa75582ec3c",
        "colab": {
          "base_uri": "https://localhost:8080/",
          "height": 34
        }
      },
      "source": [
        "# Let's test it\n",
        "cross('why', 'shy')"
      ],
      "execution_count": 3,
      "outputs": [
        {
          "output_type": "execute_result",
          "data": {
            "text/plain": [
              "['ws', 'wh', 'wy', 'hs', 'hh', 'hy', 'ys', 'yh', 'yy']"
            ]
          },
          "metadata": {
            "tags": []
          },
          "execution_count": 3
        }
      ]
    },
    {
      "cell_type": "markdown",
      "metadata": {
        "id": "32k3s2XLH8qA",
        "colab_type": "text"
      },
      "source": [
        "Now to create the labels of the boxes"
      ]
    },
    {
      "cell_type": "code",
      "metadata": {
        "id": "qFP0k1nWHzlG",
        "colab_type": "code",
        "outputId": "ba6b5432-cac9-4336-b267-74fd2a9ba8ee",
        "colab": {
          "base_uri": "https://localhost:8080/",
          "height": 34
        }
      },
      "source": [
        "boxes = cross(rows,cols)\n",
        "len(boxes)"
      ],
      "execution_count": 4,
      "outputs": [
        {
          "output_type": "execute_result",
          "data": {
            "text/plain": [
              "81"
            ]
          },
          "metadata": {
            "tags": []
          },
          "execution_count": 4
        }
      ]
    },
    {
      "cell_type": "markdown",
      "metadata": {
        "id": "t0Cb2BTGIqjL",
        "colab_type": "text"
      },
      "source": [
        "Now for the row units"
      ]
    },
    {
      "cell_type": "code",
      "metadata": {
        "id": "tdwRxNr8IsKN",
        "colab_type": "code",
        "outputId": "a1f0869f-ab9e-4bb5-84c5-4fa92534bcae",
        "colab": {
          "base_uri": "https://localhost:8080/",
          "height": 168
        }
      },
      "source": [
        "row_units = [cross(r, cols) for r in rows]\n",
        "# lets see the rows\n",
        "row_units"
      ],
      "execution_count": 5,
      "outputs": [
        {
          "output_type": "execute_result",
          "data": {
            "text/plain": [
              "[['A1', 'A2', 'A3', 'A4', 'A5', 'A6', 'A7', 'A8', 'A9'],\n",
              " ['B1', 'B2', 'B3', 'B4', 'B5', 'B6', 'B7', 'B8', 'B9'],\n",
              " ['C1', 'C2', 'C3', 'C4', 'C5', 'C6', 'C7', 'C8', 'C9'],\n",
              " ['D1', 'D2', 'D3', 'D4', 'D5', 'D6', 'D7', 'D8', 'D9'],\n",
              " ['E1', 'E2', 'E3', 'E4', 'E5', 'E6', 'E7', 'E8', 'E9'],\n",
              " ['F1', 'F2', 'F3', 'F4', 'F5', 'F6', 'F7', 'F8', 'F9'],\n",
              " ['G1', 'G2', 'G3', 'G4', 'G5', 'G6', 'G7', 'G8', 'G9'],\n",
              " ['H1', 'H2', 'H3', 'H4', 'H5', 'H6', 'H7', 'H8', 'H9'],\n",
              " ['I1', 'I2', 'I3', 'I4', 'I5', 'I6', 'I7', 'I8', 'I9']]"
            ]
          },
          "metadata": {
            "tags": []
          },
          "execution_count": 5
        }
      ]
    },
    {
      "cell_type": "code",
      "metadata": {
        "id": "uHVdx3XqHrZ-",
        "colab_type": "code",
        "outputId": "677246de-12fc-4f17-88ee-402bab2947a5",
        "colab": {
          "base_uri": "https://localhost:8080/",
          "height": 50
        }
      },
      "source": [
        "diagonal_units = [[],[]]\n",
        "for i in range(len(row_units)):\n",
        "    diagonal_units[0].append(row_units[i][i])\n",
        "    diagonal_units[1].append(row_units[i][-1-i])\n",
        "diagonal_units"
      ],
      "execution_count": 6,
      "outputs": [
        {
          "output_type": "execute_result",
          "data": {
            "text/plain": [
              "[['A1', 'B2', 'C3', 'D4', 'E5', 'F6', 'G7', 'H8', 'I9'],\n",
              " ['A9', 'B8', 'C7', 'D6', 'E5', 'F4', 'G3', 'H2', 'I1']]"
            ]
          },
          "metadata": {
            "tags": []
          },
          "execution_count": 6
        }
      ]
    },
    {
      "cell_type": "code",
      "metadata": {
        "id": "wP5mEcFYkNJI",
        "colab_type": "code",
        "colab": {}
      },
      "source": [
        "# diagonal_units = [[rows[i] + cols[i] for i in range(len(rows))]] + [[rows[i]+cols[::-1][i] for i in range(len(rows))]]\n",
        "# diagonal_units"
      ],
      "execution_count": 0,
      "outputs": []
    },
    {
      "cell_type": "markdown",
      "metadata": {
        "id": "iuUzQ3NeJhKs",
        "colab_type": "text"
      },
      "source": [
        "And now the columsn units"
      ]
    },
    {
      "cell_type": "code",
      "metadata": {
        "id": "yZmDffypJkMG",
        "colab_type": "code",
        "outputId": "13264012-9be5-4f20-a2d7-78691fda2b2d",
        "colab": {
          "base_uri": "https://localhost:8080/",
          "height": 168
        }
      },
      "source": [
        "column_units = [cross(rows, c) for c in cols]\n",
        "# Let's see\n",
        "column_units"
      ],
      "execution_count": 8,
      "outputs": [
        {
          "output_type": "execute_result",
          "data": {
            "text/plain": [
              "[['A1', 'B1', 'C1', 'D1', 'E1', 'F1', 'G1', 'H1', 'I1'],\n",
              " ['A2', 'B2', 'C2', 'D2', 'E2', 'F2', 'G2', 'H2', 'I2'],\n",
              " ['A3', 'B3', 'C3', 'D3', 'E3', 'F3', 'G3', 'H3', 'I3'],\n",
              " ['A4', 'B4', 'C4', 'D4', 'E4', 'F4', 'G4', 'H4', 'I4'],\n",
              " ['A5', 'B5', 'C5', 'D5', 'E5', 'F5', 'G5', 'H5', 'I5'],\n",
              " ['A6', 'B6', 'C6', 'D6', 'E6', 'F6', 'G6', 'H6', 'I6'],\n",
              " ['A7', 'B7', 'C7', 'D7', 'E7', 'F7', 'G7', 'H7', 'I7'],\n",
              " ['A8', 'B8', 'C8', 'D8', 'E8', 'F8', 'G8', 'H8', 'I8'],\n",
              " ['A9', 'B9', 'C9', 'D9', 'E9', 'F9', 'G9', 'H9', 'I9']]"
            ]
          },
          "metadata": {
            "tags": []
          },
          "execution_count": 8
        }
      ]
    },
    {
      "cell_type": "markdown",
      "metadata": {
        "id": "K5rolXl2K5mT",
        "colab_type": "text"
      },
      "source": [
        "Let's now code the square units"
      ]
    },
    {
      "cell_type": "code",
      "metadata": {
        "id": "TXYWKZ2XK4yt",
        "colab_type": "code",
        "outputId": "ed573060-aa4b-4b25-8205-731784103160",
        "colab": {
          "base_uri": "https://localhost:8080/",
          "height": 168
        }
      },
      "source": [
        "square_units = [cross(rs, cs) for rs in ('ABC','DEF','GHI') for cs in ('123','456','789')]\n",
        "# see\n",
        "square_units"
      ],
      "execution_count": 9,
      "outputs": [
        {
          "output_type": "execute_result",
          "data": {
            "text/plain": [
              "[['A1', 'A2', 'A3', 'B1', 'B2', 'B3', 'C1', 'C2', 'C3'],\n",
              " ['A4', 'A5', 'A6', 'B4', 'B5', 'B6', 'C4', 'C5', 'C6'],\n",
              " ['A7', 'A8', 'A9', 'B7', 'B8', 'B9', 'C7', 'C8', 'C9'],\n",
              " ['D1', 'D2', 'D3', 'E1', 'E2', 'E3', 'F1', 'F2', 'F3'],\n",
              " ['D4', 'D5', 'D6', 'E4', 'E5', 'E6', 'F4', 'F5', 'F6'],\n",
              " ['D7', 'D8', 'D9', 'E7', 'E8', 'E9', 'F7', 'F8', 'F9'],\n",
              " ['G1', 'G2', 'G3', 'H1', 'H2', 'H3', 'I1', 'I2', 'I3'],\n",
              " ['G4', 'G5', 'G6', 'H4', 'H5', 'H6', 'I4', 'I5', 'I6'],\n",
              " ['G7', 'G8', 'G9', 'H7', 'H8', 'H9', 'I7', 'I8', 'I9']]"
            ]
          },
          "metadata": {
            "tags": []
          },
          "execution_count": 9
        }
      ]
    },
    {
      "cell_type": "markdown",
      "metadata": {
        "id": "swG8eskDL8AK",
        "colab_type": "text"
      },
      "source": [
        "Let's put them all together in units"
      ]
    },
    {
      "cell_type": "code",
      "metadata": {
        "id": "-rHpUbNuJ8lc",
        "colab_type": "code",
        "outputId": "3be01d9f-1989-4bee-9256-30959736a039",
        "colab": {
          "base_uri": "https://localhost:8080/",
          "height": 504
        }
      },
      "source": [
        "unitlist = row_units + column_units + square_units + diagonal_units\n",
        "unitlist"
      ],
      "execution_count": 10,
      "outputs": [
        {
          "output_type": "execute_result",
          "data": {
            "text/plain": [
              "[['A1', 'A2', 'A3', 'A4', 'A5', 'A6', 'A7', 'A8', 'A9'],\n",
              " ['B1', 'B2', 'B3', 'B4', 'B5', 'B6', 'B7', 'B8', 'B9'],\n",
              " ['C1', 'C2', 'C3', 'C4', 'C5', 'C6', 'C7', 'C8', 'C9'],\n",
              " ['D1', 'D2', 'D3', 'D4', 'D5', 'D6', 'D7', 'D8', 'D9'],\n",
              " ['E1', 'E2', 'E3', 'E4', 'E5', 'E6', 'E7', 'E8', 'E9'],\n",
              " ['F1', 'F2', 'F3', 'F4', 'F5', 'F6', 'F7', 'F8', 'F9'],\n",
              " ['G1', 'G2', 'G3', 'G4', 'G5', 'G6', 'G7', 'G8', 'G9'],\n",
              " ['H1', 'H2', 'H3', 'H4', 'H5', 'H6', 'H7', 'H8', 'H9'],\n",
              " ['I1', 'I2', 'I3', 'I4', 'I5', 'I6', 'I7', 'I8', 'I9'],\n",
              " ['A1', 'B1', 'C1', 'D1', 'E1', 'F1', 'G1', 'H1', 'I1'],\n",
              " ['A2', 'B2', 'C2', 'D2', 'E2', 'F2', 'G2', 'H2', 'I2'],\n",
              " ['A3', 'B3', 'C3', 'D3', 'E3', 'F3', 'G3', 'H3', 'I3'],\n",
              " ['A4', 'B4', 'C4', 'D4', 'E4', 'F4', 'G4', 'H4', 'I4'],\n",
              " ['A5', 'B5', 'C5', 'D5', 'E5', 'F5', 'G5', 'H5', 'I5'],\n",
              " ['A6', 'B6', 'C6', 'D6', 'E6', 'F6', 'G6', 'H6', 'I6'],\n",
              " ['A7', 'B7', 'C7', 'D7', 'E7', 'F7', 'G7', 'H7', 'I7'],\n",
              " ['A8', 'B8', 'C8', 'D8', 'E8', 'F8', 'G8', 'H8', 'I8'],\n",
              " ['A9', 'B9', 'C9', 'D9', 'E9', 'F9', 'G9', 'H9', 'I9'],\n",
              " ['A1', 'A2', 'A3', 'B1', 'B2', 'B3', 'C1', 'C2', 'C3'],\n",
              " ['A4', 'A5', 'A6', 'B4', 'B5', 'B6', 'C4', 'C5', 'C6'],\n",
              " ['A7', 'A8', 'A9', 'B7', 'B8', 'B9', 'C7', 'C8', 'C9'],\n",
              " ['D1', 'D2', 'D3', 'E1', 'E2', 'E3', 'F1', 'F2', 'F3'],\n",
              " ['D4', 'D5', 'D6', 'E4', 'E5', 'E6', 'F4', 'F5', 'F6'],\n",
              " ['D7', 'D8', 'D9', 'E7', 'E8', 'E9', 'F7', 'F8', 'F9'],\n",
              " ['G1', 'G2', 'G3', 'H1', 'H2', 'H3', 'I1', 'I2', 'I3'],\n",
              " ['G4', 'G5', 'G6', 'H4', 'H5', 'H6', 'I4', 'I5', 'I6'],\n",
              " ['G7', 'G8', 'G9', 'H7', 'H8', 'H9', 'I7', 'I8', 'I9'],\n",
              " ['A1', 'B2', 'C3', 'D4', 'E5', 'F6', 'G7', 'H8', 'I9'],\n",
              " ['A9', 'B8', 'C7', 'D6', 'E5', 'F4', 'G3', 'H2', 'I1']]"
            ]
          },
          "metadata": {
            "tags": []
          },
          "execution_count": 10
        }
      ]
    },
    {
      "cell_type": "code",
      "metadata": {
        "id": "w1rvdQ0skqIE",
        "colab_type": "code",
        "colab": {}
      },
      "source": [
        "units = dict((s, [u for u in unitlist if s in u]) for s in boxes)\n",
        "peers = dict((s, set(sum(units[s],[]))-set([s])) for s in boxes)"
      ],
      "execution_count": 0,
      "outputs": []
    },
    {
      "cell_type": "code",
      "metadata": {
        "id": "OJm5dbHpsxRQ",
        "colab_type": "code",
        "outputId": "50b07834-3186-4c6f-f593-d08fea675e6a",
        "colab": {
          "base_uri": "https://localhost:8080/",
          "height": 34
        }
      },
      "source": [
        "len(units.keys())"
      ],
      "execution_count": 12,
      "outputs": [
        {
          "output_type": "execute_result",
          "data": {
            "text/plain": [
              "81"
            ]
          },
          "metadata": {
            "tags": []
          },
          "execution_count": 12
        }
      ]
    },
    {
      "cell_type": "code",
      "metadata": {
        "id": "w813mWF0s_AX",
        "colab_type": "code",
        "outputId": "5b98d21c-a4a4-4227-9d0b-77b2734f9b17",
        "colab": {
          "base_uri": "https://localhost:8080/",
          "height": 84
        }
      },
      "source": [
        "units['A9']"
      ],
      "execution_count": 13,
      "outputs": [
        {
          "output_type": "execute_result",
          "data": {
            "text/plain": [
              "[['A1', 'A2', 'A3', 'A4', 'A5', 'A6', 'A7', 'A8', 'A9'],\n",
              " ['A9', 'B9', 'C9', 'D9', 'E9', 'F9', 'G9', 'H9', 'I9'],\n",
              " ['A7', 'A8', 'A9', 'B7', 'B8', 'B9', 'C7', 'C8', 'C9'],\n",
              " ['A9', 'B8', 'C7', 'D6', 'E5', 'F4', 'G3', 'H2', 'I1']]"
            ]
          },
          "metadata": {
            "tags": []
          },
          "execution_count": 13
        }
      ]
    },
    {
      "cell_type": "markdown",
      "metadata": {
        "id": "CDIyOgo8MlGY",
        "colab_type": "text"
      },
      "source": [
        "<h4>Implement grid_values()</h4>\n",
        "A function to convert the string representation of a puzzle into a dictionary form.<br>\n",
        "Recall that for the string:\n",
        "\n",
        "\n",
        "`'..3.2.6..9..3.5..1..18.64....81.29..7.......8..67.82....26.95..8..2.3..9..5.1.3..'`\n",
        "\n",
        "...we'd like to return the dictionary:\n",
        "\n",
        "```\n",
        "{\n",
        "  'A1': '.'\n",
        "  'A2': '.',\n",
        "  'A3': '3',\n",
        "  'A4': '.',\n",
        "  'A5': '2',\n",
        "  ...\n",
        "  'I9': '.'\n",
        "}\n",
        "```"
      ]
    },
    {
      "cell_type": "code",
      "metadata": {
        "id": "rdtwHFdbC_px",
        "colab_type": "code",
        "colab": {}
      },
      "source": [
        "c = '..3.2.6..9..3.5..1..18.64....81.29..7.......8..67.82....26.95..8..2.3..9..5.1.3..'"
      ],
      "execution_count": 0,
      "outputs": []
    },
    {
      "cell_type": "code",
      "metadata": {
        "id": "04lGQ-EGLFTe",
        "colab_type": "code",
        "colab": {}
      },
      "source": [
        "def display(values):\n",
        "    \"\"\"\n",
        "    Display the values as a 2-D grid.\n",
        "    Input: The sudoku in dictionary form\n",
        "    Output: None\n",
        "    \"\"\"\n",
        "    width = 1+max(len(values[s]) for s in boxes)\n",
        "    line = '+'.join(['-'*(width*3)]*3)\n",
        "    for r in rows:\n",
        "        print(''.join(values[r+c].center(width)+('|' if c in '36' else '')\n",
        "                      for c in cols))\n",
        "        if r in 'CF': print(line)\n",
        "    return"
      ],
      "execution_count": 0,
      "outputs": []
    },
    {
      "cell_type": "code",
      "metadata": {
        "id": "z3y27ZsvHs3M",
        "colab_type": "code",
        "cellView": "form",
        "colab": {}
      },
      "source": [
        "#@title Explanation\n",
        "# def grid_values(grid):\n",
        "#     \"\"\"Convert grid string into {<box>: <value>} dict with '123456789' value for empties.\n",
        "\n",
        "#     Args:\n",
        "#         grid: Sudoku grid in string form, 81 characters long\n",
        "#     Returns:\n",
        "#         Sudoku grid in dictionary form:\n",
        "#         - keys: Box labels, e.g. 'A1'\n",
        "#         - values: Value in corresponding box, e.g. '8', or '123456789' if it is empty.\n",
        "#     \"\"\"\n",
        "#     values = []\n",
        "#     all_digits = '123456789'\n",
        "#     for c in grid:\n",
        "#         if c == '.':\n",
        "#             values.append(all_digits)\n",
        "#         elif c in all_digits:\n",
        "#             values.append(c)\n",
        "#     assert len(values) == 81\n",
        "#     return dict(zip(boxes, values))\n"
      ],
      "execution_count": 0,
      "outputs": []
    },
    {
      "cell_type": "code",
      "metadata": {
        "id": "9z8wOpbHWHot",
        "colab_type": "code",
        "colab": {}
      },
      "source": [
        "# `grid` is defined in the test code scope as the following:\n",
        "# (note: changing the value here will _not_ change the test code)\n",
        "# grid = '..3.2.6..9..3.5..1..18.64....81.29..7.......8..67.82....26.95..8..2.3..9..5.1.3..'\n",
        "\n",
        "def grid_values(grid):\n",
        "    \"\"\"Convert grid string into {<box>: <value>} dict with '.' value for empties.\n",
        "\n",
        "    Args:\n",
        "        grid: Sudoku grid in string form, 81 characters long\n",
        "    Returns:\n",
        "        Sudoku grid in dictionary form:\n",
        "        - keys: Box labels, e.g. 'A1'\n",
        "        - values: Value in corresponding box, e.g. '8', or '.' if it is empty.\n",
        "    \"\"\"\n",
        "    new_dict = dict(zip(boxes, grid))\n",
        "\n",
        "    for label, value in new_dict.items():\n",
        "        try:\n",
        "            int(value)\n",
        "        except:\n",
        "            new_dict[label] = '123456789'\n",
        "\n",
        "\n",
        "    return new_dict"
      ],
      "execution_count": 0,
      "outputs": []
    },
    {
      "cell_type": "markdown",
      "metadata": {
        "id": "R_bxtljJYFNB",
        "colab_type": "text"
      },
      "source": [
        "Implement eliminate()\n",
        "Now, let's finish the code for the function eliminate(), which will take as input a puzzle in dictionary form. The function will iterate over all the boxes in the puzzle that only have one value assigned to them, and it will remove this value from every one of its peers."
      ]
    },
    {
      "cell_type": "code",
      "metadata": {
        "id": "gL44USfqGcCn",
        "colab_type": "code",
        "colab": {}
      },
      "source": [
        "def eliminate(values):\n",
        "    \"\"\"Eliminate values from peers of each box with a single value.\n",
        "\n",
        "    Go through all the boxes, and whenever there is a box with a single value,\n",
        "    eliminate this value from the set of values of all its peers.\n",
        "\n",
        "    Args:\n",
        "        values: Sudoku in dictionary form.\n",
        "    Returns:\n",
        "        Resulting Sudoku in dictionary form after eliminating values.\n",
        "    \"\"\"\n",
        "    solved_values = [box for box in values.keys() if len(values[box]) == 1]\n",
        "    for box in solved_values:\n",
        "        digit = values[box]\n",
        "        for peer in peers[box]:\n",
        "            values[peer] = values[peer].replace(digit,'')\n",
        "    return values\n"
      ],
      "execution_count": 0,
      "outputs": []
    },
    {
      "cell_type": "code",
      "metadata": {
        "id": "jTBuUIo5FIza",
        "colab_type": "code",
        "colab": {}
      },
      "source": [
        "def only_choice(values):\n",
        "    \"\"\"Finalize all values that are the only choice for a unit.\n",
        "\n",
        "    Go through all the units, and whenever there is a unit with a value\n",
        "    that only fits in one box, assign the value to this box.\n",
        "\n",
        "    Input: Sudoku in dictionary form.\n",
        "    Output: Resulting Sudoku in dictionary form after filling in only choices.\n",
        "    \"\"\"\n",
        "    # TODO: Implement only choice strategy here    \n",
        "\n",
        "\n",
        "    for unit in unitlist:\n",
        "        for digit in '123456789':\n",
        "            dplaces = [box for box in unit if digit in values[box]]\n",
        "            if len(dplaces) == 1:\n",
        "                values[dplaces[0]] = digit\n",
        "    return values\n"
      ],
      "execution_count": 0,
      "outputs": []
    },
    {
      "cell_type": "markdown",
      "metadata": {
        "id": "wYzQk8xUVpEj",
        "colab_type": "text"
      },
      "source": [
        "Now that you see how we apply Constraint Propagation to this problem, let's try to code it! In the following quiz, combine the functions `eliminate`and `only_choice` to write the function `reduce_puzzle`, which receives as input an unsolved puzzle and applies our two constraints repeatedly in an attempt to solve it.\n",
        "\n",
        "Some things to watch out for:\n",
        "\n",
        "The function needs to stop if the puzzle gets solved. How to do this?\n",
        "What if the function doesn't solve the sudoku? Can we make sure the function quits when applying the two strategies stops making progress?"
      ]
    },
    {
      "cell_type": "markdown",
      "metadata": {
        "id": "Fd9Z3P_q6aoq",
        "colab_type": "text"
      },
      "source": [
        "<h4><b>Naked Twins<b></h4>\n",
        "The naked twins strategy says that if you have two or more unallocated boxes in a unit and there are only two digits that can go in those two boxes, then those two digits can be eliminated from the possible assignments of all other boxes in the same unit.\n",
        "\n",
        "This pseudocode is accurate, but it isn't very efficient. You should discuss the other strategies with your peers to look for more efficient implementations.\n",
        "\n",
        "Note: It is best to treat the input to this function as immutable. Mutating the state during execution can cause unexpected results during testing because mutating the input can erase pairs of naked twins before they're discovered.\n",
        "```\n",
        "function NakedTwins(values) returns a dict mapping from Sudoku box names to a list of feasible values\n",
        " inputs:\n",
        "  values, a dict mapping from Sudoku box names to a list of feasible values\n",
        "\n",
        " out <- copy(values) /* make a deep copy */\n",
        " for each boxA in values do\n",
        "  for each boxB of PEERS(boxA) do\n",
        "   if both values[boxA] and values[boxB] exactly match and have only two feasible digits do\n",
        "    for each peer of INTERSECTION(PEERS(boxA), PEERS(boxB)) do\n",
        "     for each digit of values[boxA] do\n",
        "      remove digit d from out[peer]\n",
        " return out\n",
        "```\n"
      ]
    },
    {
      "cell_type": "code",
      "metadata": {
        "id": "lp9bJl2I4MGe",
        "colab_type": "code",
        "colab": {}
      },
      "source": [
        "def naked_twins(values):\n",
        "    \"\"\"Eliminate values using the naked twins strategy.\n",
        "    Parameters\n",
        "    ----------\n",
        "    values(dict)\n",
        "        a dictionary of the form {'box_name': '123456789', ...}\n",
        "    Returns\n",
        "    -------\n",
        "    dict\n",
        "        The values dictionary with the naked twins eliminated from peers\n",
        "    Notes\n",
        "    -----\n",
        "    Your solution can either process all pairs of naked twins from the input once,\n",
        "    or it can continue processing pairs of naked twins until there are no such\n",
        "    pairs remaining -- the project assistant test suite will accept either\n",
        "    convention. However, it will not accept code that does not process all pairs\n",
        "    of naked twins from the original input. (For example, if you start processing\n",
        "    pairs of twins and eliminate another pair of twins before the second pair\n",
        "    is processed then your code will fail the PA test suite.)\n",
        "    The first convention is preferred for consistency with the other strategies,\n",
        "    and because it is simpler (since the reduce_puzzle function already calls this\n",
        "    strategy repeatedly).\n",
        "    \"\"\"\n",
        "\n",
        "    def get_twins_common_peers(box, possible_twin):\n",
        "        # Get the common peers btween the twins\n",
        "        common_peers = list(set(peers[box]) & set(peers[possible_twin]))\n",
        "        return common_peers\n",
        "\n",
        "    # TODO: Implement this function!\n",
        "    # case one: the naked twins are in the col peers\n",
        "    # case two: the naked twins are in the row extract_peers\n",
        "    # case three: the naked twins are in the box peers\n",
        "    # for each box in values (grid)\n",
        "    naked_twins = []\n",
        "    for box in values.keys():\n",
        "        if len(values[box]) == 2: #Choose boxes that only have 2 digits\n",
        "            # All box twin peers\n",
        "            all_twin_peers = [peer for peer in peers[box] if values[box] == values[peer]]\n",
        "            # This step is important for dynamicity\n",
        "            naked_twin = [[twin, box] for twin in all_twin_peers]\n",
        "            if naked_twin:\n",
        "                naked_twins.extend(naked_twin)\n",
        "            # sort each of the twins to eliminate duplicates afterwards\n",
        "            for twins in naked_twins:\n",
        "                twins.sort()\n",
        "    # eliminate duplicate twin combos\n",
        "    naked_twins_sorted = set([tuple(x) for x in naked_twins])\n",
        "    naked_twins = [list(x) for x in list(naked_twins_sorted)]\n",
        "    #print(naked_twins)\n",
        "    if naked_twins:\n",
        "        for twins in naked_twins:\n",
        "            # Get twins' peers, the intersection btween the twins' peers 13 peers\n",
        "            twin_peers = get_twins_common_peers(twins[0], twins[1])\n",
        "            for peer in twin_peers:\n",
        "                # If the peer have more than one digit (not solved)\n",
        "                if len(values[peer]) > 1:\n",
        "                    for digit in values[twins[0]]:\n",
        "                        values[peer] = values[peer].replace(digit, '')\n",
        "    return values"
      ],
      "execution_count": 0,
      "outputs": []
    },
    {
      "cell_type": "code",
      "metadata": {
        "id": "66I-k9s248sQ",
        "colab_type": "code",
        "outputId": "010093be-5c3e-475e-851b-b2b660c16510",
        "colab": {
          "base_uri": "https://localhost:8080/",
          "height": 202
        }
      },
      "source": [
        "grid = '2.............62....1....7...6..8...3...9...7...6..4...4....8....52.............3'\n",
        "values = grid_values(grid)\n",
        "values = eliminate(values)\n",
        "values = only_choice(values)\n",
        "display(values)"
      ],
      "execution_count": 21,
      "outputs": [
        {
          "output_type": "stream",
          "text": [
            "   2     356789  34789  |1345789  134578  134579 | 13569  1345689   145   \n",
            " 45789     57    34789  |1345789  134578    6    |   2      1345   14589  \n",
            " 45689   35689     1    | 34589   23458   23459  |   35      7     45689  \n",
            "------------------------+------------------------+------------------------\n",
            " 14579   12579     6    |  457    123457    8    |  1359   12359    1259  \n",
            "   3      1258    248   |  145      9      1245  |  156    12568     7    \n",
            " 15789   125789   2789  |   6     12357     57   |   4     123589  12589  \n",
            "------------------------+------------------------+------------------------\n",
            "  1679     4       2    | 13579   13567   13579  |   8     12569   12569  \n",
            " 16789    137      5    |   2     134678  13479  |  1679     6      1469  \n",
            "   17    126789   2789  | 145789  145678  14579  | 15679   124569    3    \n"
          ],
          "name": "stdout"
        }
      ]
    },
    {
      "cell_type": "code",
      "metadata": {
        "id": "1o2uOCyS4E6e",
        "colab_type": "code",
        "outputId": "b97ce677-dda1-4830-a9a3-d09ef3b7811c",
        "colab": {
          "base_uri": "https://localhost:8080/",
          "height": 34
        }
      },
      "source": [
        "naked_t = []\n",
        "boxes_left_with_2digits = []\n",
        "for box in values.keys():\n",
        "    if len(values[box]) == 2:\n",
        "        boxes_left_with_2digits.append(box)\n",
        "        all_twin_peers = [i for i in peers[box] if values[box] == values[i]]\n",
        "        naked_t = [[twin, box] for twin in all_twin_peers]\n",
        "print(naked_t)"
      ],
      "execution_count": 22,
      "outputs": [
        {
          "output_type": "stream",
          "text": [
            "[]\n"
          ],
          "name": "stdout"
        }
      ]
    },
    {
      "cell_type": "code",
      "metadata": {
        "id": "4pP82fS9-NYN",
        "colab_type": "code",
        "outputId": "78b6649c-03bf-4cce-831e-a6aff37cc772",
        "colab": {
          "base_uri": "https://localhost:8080/",
          "height": 34
        }
      },
      "source": [
        "values['I1']"
      ],
      "execution_count": 23,
      "outputs": [
        {
          "output_type": "execute_result",
          "data": {
            "text/plain": [
              "'17'"
            ]
          },
          "metadata": {
            "tags": []
          },
          "execution_count": 23
        }
      ]
    },
    {
      "cell_type": "code",
      "metadata": {
        "id": "jKrMvBqvV0mw",
        "colab_type": "code",
        "colab": {}
      },
      "source": [
        "def reduce_puzzle(values):\n",
        "    stalled = False\n",
        "    while not stalled:\n",
        "        # Check how many boxes have a determined value\n",
        "        solved_values_before = len([box for box in values.keys() if len(values[box]) == 1])\n",
        "\n",
        "        # Your code here: Use the Eliminate Strategy\n",
        "        values = eliminate(values)\n",
        "        # Your code here: Use the Only Choice Strategy\n",
        "        values = only_choice(values)\n",
        "        # Use the naked twins strategy\n",
        "        values = naked_twins(values)\n",
        "        # Check how many boxes have a determined value, to compare\n",
        "        solved_values_after = len([box for box in values.keys() if len(values[box]) == 1])\n",
        "        # If no new values were added, stop the loop.\n",
        "        stalled = solved_values_before == solved_values_after\n",
        "        # Sanity check, return False if there is a box with zero available values:\n",
        "        if len([box for box in values.keys() if len(values[box]) == 0]):\n",
        "            return False\n",
        "    return values"
      ],
      "execution_count": 0,
      "outputs": []
    },
    {
      "cell_type": "markdown",
      "metadata": {
        "id": "V9U9W38GYvVa",
        "colab_type": "text"
      },
      "source": [
        "## Harder Sudoku:\n",
        "\n",
        "<b><h4>Congrats!!</h4></b>\n",
        "Using the `reduce_puzzle` method automatically solves the **Sudoku** by iterating over the constrained spaces with the `eliminate` and `only_choice` methods. \n",
        "<br>Let's try a harder Sudoku."
      ]
    },
    {
      "cell_type": "code",
      "metadata": {
        "id": "5vc60oIr2o7q",
        "colab_type": "code",
        "colab": {}
      },
      "source": [
        "grid = '2.............62....1....7...6..8...3...9...7...6..4...4....8....52.............3'"
      ],
      "execution_count": 0,
      "outputs": []
    },
    {
      "cell_type": "code",
      "metadata": {
        "id": "9xXyz46asfV9",
        "colab_type": "code",
        "colab": {}
      },
      "source": [
        "def search(values):\n",
        "    \"\"\"Apply depth first search to solve Sudoku puzzles in order to solve puzzles\n",
        "    that cannot be solved by repeated reduction alone.\n",
        "\n",
        "    Parameters\n",
        "    ----------\n",
        "    values(dict)\n",
        "        a dictionary of the form {'box_name': '123456789', ...}\n",
        "\n",
        "    Returns\n",
        "    -------\n",
        "    dict or False\n",
        "        The values dictionary with all boxes assigned or False\n",
        "\n",
        "    Notes\n",
        "    -----\n",
        "    You should be able to complete this function by copying your code from the classroom\n",
        "    and extending it to call the naked twins strategy.\n",
        "    \"\"\"\n",
        "    # TODO: Copy your code from the classroom to complete this function\n",
        "    # raise NotImplementedError\n",
        "    values = reduce_puzzle(values)\n",
        "    if values is False:\n",
        "        return False ## Failed earlier\n",
        "    if all(len(values[s]) == 1 for s in boxes): \n",
        "        return values ## Solved!\n",
        "    # Choose one of the unfilled squares with the fewest possibilities\n",
        "    n,s = min((len(values[s]), s) for s in boxes if len(values[s]) > 1)\n",
        "    # Now use recurrence to solve each one of the resulting sudokus, and \n",
        "    for value in values[s]:\n",
        "        new_sudoku = values.copy()\n",
        "        new_sudoku[s] = value\n",
        "        attempt = search(new_sudoku)\n",
        "        if attempt:\n",
        "            return attempt\n"
      ],
      "execution_count": 0,
      "outputs": []
    },
    {
      "cell_type": "code",
      "metadata": {
        "id": "8AUVZsuDti0J",
        "colab_type": "code",
        "outputId": "44c5b1bb-df07-4f27-d2ba-7adb0e895a25",
        "colab": {
          "base_uri": "https://localhost:8080/",
          "height": 202
        }
      },
      "source": [
        "grid = '2.............62....1....7...6..8...3...9...7...6..4...4....8....52.............3'\n",
        "values = grid_values(grid)\n",
        "values = search(values)\n",
        "display(values)"
      ],
      "execution_count": 27,
      "outputs": [
        {
          "output_type": "stream",
          "text": [
            "2 6 7 |9 4 5 |3 8 1 \n",
            "8 5 3 |7 1 6 |2 4 9 \n",
            "4 9 1 |8 2 3 |5 7 6 \n",
            "------+------+------\n",
            "5 7 6 |4 3 8 |1 9 2 \n",
            "3 8 4 |1 9 2 |6 5 7 \n",
            "1 2 9 |6 5 7 |4 3 8 \n",
            "------+------+------\n",
            "6 4 2 |3 7 9 |8 1 5 \n",
            "9 3 5 |2 8 1 |7 6 4 \n",
            "7 1 8 |5 6 4 |9 2 3 \n"
          ],
          "name": "stdout"
        }
      ]
    }
  ]
}